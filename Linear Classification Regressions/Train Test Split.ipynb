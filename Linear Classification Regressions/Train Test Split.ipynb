{
 "cells": [
  {
   "cell_type": "code",
   "execution_count": 2,
   "id": "76215adc",
   "metadata": {},
   "outputs": [],
   "source": [
    "import numpy as np\n",
    "from sklearn.model_selection import train_test_split"
   ]
  },
  {
   "cell_type": "code",
   "execution_count": 3,
   "id": "c73690fd",
   "metadata": {},
   "outputs": [],
   "source": [
    "a = np.arange(1,101)"
   ]
  },
  {
   "cell_type": "code",
   "execution_count": 4,
   "id": "1482adf7",
   "metadata": {},
   "outputs": [
    {
     "data": {
      "text/plain": [
       "array([  1,   2,   3,   4,   5,   6,   7,   8,   9,  10,  11,  12,  13,\n",
       "        14,  15,  16,  17,  18,  19,  20,  21,  22,  23,  24,  25,  26,\n",
       "        27,  28,  29,  30,  31,  32,  33,  34,  35,  36,  37,  38,  39,\n",
       "        40,  41,  42,  43,  44,  45,  46,  47,  48,  49,  50,  51,  52,\n",
       "        53,  54,  55,  56,  57,  58,  59,  60,  61,  62,  63,  64,  65,\n",
       "        66,  67,  68,  69,  70,  71,  72,  73,  74,  75,  76,  77,  78,\n",
       "        79,  80,  81,  82,  83,  84,  85,  86,  87,  88,  89,  90,  91,\n",
       "        92,  93,  94,  95,  96,  97,  98,  99, 100])"
      ]
     },
     "execution_count": 4,
     "metadata": {},
     "output_type": "execute_result"
    }
   ],
   "source": [
    "a"
   ]
  },
  {
   "cell_type": "code",
   "execution_count": 32,
   "id": "3456519c",
   "metadata": {},
   "outputs": [],
   "source": [
    "b = np.arange(501,601)"
   ]
  },
  {
   "cell_type": "code",
   "execution_count": 33,
   "id": "b43648e8",
   "metadata": {},
   "outputs": [
    {
     "data": {
      "text/plain": [
       "array([501, 502, 503, 504, 505, 506, 507, 508, 509, 510, 511, 512, 513,\n",
       "       514, 515, 516, 517, 518, 519, 520, 521, 522, 523, 524, 525, 526,\n",
       "       527, 528, 529, 530, 531, 532, 533, 534, 535, 536, 537, 538, 539,\n",
       "       540, 541, 542, 543, 544, 545, 546, 547, 548, 549, 550, 551, 552,\n",
       "       553, 554, 555, 556, 557, 558, 559, 560, 561, 562, 563, 564, 565,\n",
       "       566, 567, 568, 569, 570, 571, 572, 573, 574, 575, 576, 577, 578,\n",
       "       579, 580, 581, 582, 583, 584, 585, 586, 587, 588, 589, 590, 591,\n",
       "       592, 593, 594, 595, 596, 597, 598, 599, 600])"
      ]
     },
     "execution_count": 33,
     "metadata": {},
     "output_type": "execute_result"
    }
   ],
   "source": [
    "b"
   ]
  },
  {
   "cell_type": "code",
   "execution_count": 34,
   "id": "a46db4fc",
   "metadata": {},
   "outputs": [
    {
     "data": {
      "text/plain": [
       "[array([ 38,  36,  78,  68,  15,  51,  99,  66,  87,  72,  74,  55,  98,\n",
       "         56,  90,  40,  63,   4,  79,  62,  12,  11,  70,  69,  31,  21,\n",
       "         33,   9,  30,  73,  95,  22,  39,  58,  35,  32,  10,  97,  80,\n",
       "         28,  60,  53,  61,  77,  34,  29,  45,  71, 100,  89,  76,  17,\n",
       "         43,   6,  94,  46,  42,  20,  18,  41,  59,  85,  19,  13,  82,\n",
       "         27,  50,   1,  16,  47,  91,  37,  25,  64,  83]),\n",
       " array([75, 23, 65, 52,  8, 14, 26, 48,  3, 24, 96, 86, 49, 92, 67, 54, 81,\n",
       "        88, 57, 93,  2, 44, 84,  5,  7])]"
      ]
     },
     "execution_count": 34,
     "metadata": {},
     "output_type": "execute_result"
    }
   ],
   "source": [
    "train_test_split(a)"
   ]
  },
  {
   "cell_type": "code",
   "execution_count": 35,
   "id": "0e34eeca",
   "metadata": {},
   "outputs": [],
   "source": [
    "a_train, a_test, b_train, b_test = train_test_split(a,b,test_size=0.2, random_state=69)"
   ]
  },
  {
   "cell_type": "code",
   "execution_count": 36,
   "id": "7c79b12d",
   "metadata": {},
   "outputs": [
    {
     "data": {
      "text/plain": [
       "((80,), (20,))"
      ]
     },
     "execution_count": 36,
     "metadata": {},
     "output_type": "execute_result"
    }
   ],
   "source": [
    "a_train.shape,a_test.shape"
   ]
  },
  {
   "cell_type": "code",
   "execution_count": 37,
   "id": "44d56117",
   "metadata": {},
   "outputs": [
    {
     "data": {
      "text/plain": [
       "array([ 37,  29,   6,  41,  59,  79,   7,  72,  16,  88,  26,  35,   2,\n",
       "        70,  77,  53,  52,  92,   5,   8,  33,  47,  28,  58,  42,  64,\n",
       "         1,  66, 100,  78,  75,  87,  19,  69,  67,  12,  51,  20,  61,\n",
       "        60,  43,  30,  17,  46,  49,  62,  68,  71,  94,  22,  15,  44,\n",
       "        36,  24,  45,  86,  48,  83,  82,   3,  25,  40,  81,   4,  54,\n",
       "        99,  38,  13,  89,  39,  57,  10,  23,  50,  21,  56,  91,  74,\n",
       "        76,  55])"
      ]
     },
     "execution_count": 37,
     "metadata": {},
     "output_type": "execute_result"
    }
   ],
   "source": [
    "a_train"
   ]
  },
  {
   "cell_type": "code",
   "execution_count": 38,
   "id": "e1631500",
   "metadata": {},
   "outputs": [
    {
     "data": {
      "text/plain": [
       "array([73, 32, 14, 84, 34,  9, 27, 90, 65, 98, 95, 85, 11, 18, 96, 80, 31,\n",
       "       63, 93, 97])"
      ]
     },
     "execution_count": 38,
     "metadata": {},
     "output_type": "execute_result"
    }
   ],
   "source": [
    "a_test"
   ]
  },
  {
   "cell_type": "code",
   "execution_count": 39,
   "id": "4dfea595",
   "metadata": {},
   "outputs": [
    {
     "data": {
      "text/plain": [
       "((80,), (20,))"
      ]
     },
     "execution_count": 39,
     "metadata": {},
     "output_type": "execute_result"
    }
   ],
   "source": [
    "b_train.shape, b_test.shape"
   ]
  },
  {
   "cell_type": "code",
   "execution_count": 40,
   "id": "3b4ffe7a",
   "metadata": {},
   "outputs": [
    {
     "data": {
      "text/plain": [
       "array([537, 529, 506, 541, 559, 579, 507, 572, 516, 588, 526, 535, 502,\n",
       "       570, 577, 553, 552, 592, 505, 508, 533, 547, 528, 558, 542, 564,\n",
       "       501, 566, 600, 578, 575, 587, 519, 569, 567, 512, 551, 520, 561,\n",
       "       560, 543, 530, 517, 546, 549, 562, 568, 571, 594, 522, 515, 544,\n",
       "       536, 524, 545, 586, 548, 583, 582, 503, 525, 540, 581, 504, 554,\n",
       "       599, 538, 513, 589, 539, 557, 510, 523, 550, 521, 556, 591, 574,\n",
       "       576, 555])"
      ]
     },
     "execution_count": 40,
     "metadata": {},
     "output_type": "execute_result"
    }
   ],
   "source": [
    "b_train"
   ]
  },
  {
   "cell_type": "code",
   "execution_count": 41,
   "id": "0f992617",
   "metadata": {},
   "outputs": [
    {
     "data": {
      "text/plain": [
       "array([573, 532, 514, 584, 534, 509, 527, 590, 565, 598, 595, 585, 511,\n",
       "       518, 596, 580, 531, 563, 593, 597])"
      ]
     },
     "execution_count": 41,
     "metadata": {},
     "output_type": "execute_result"
    }
   ],
   "source": [
    "b_test"
   ]
  }
 ],
 "metadata": {
  "kernelspec": {
   "display_name": "Python 3 (ipykernel)",
   "language": "python",
   "name": "python3"
  },
  "language_info": {
   "codemirror_mode": {
    "name": "ipython",
    "version": 3
   },
   "file_extension": ".py",
   "mimetype": "text/x-python",
   "name": "python",
   "nbconvert_exporter": "python",
   "pygments_lexer": "ipython3",
   "version": "3.9.12"
  }
 },
 "nbformat": 4,
 "nbformat_minor": 5
}
